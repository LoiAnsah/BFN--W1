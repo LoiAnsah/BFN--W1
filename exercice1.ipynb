{
 "cells": [
  {
   "cell_type": "code",
   "execution_count": 2,
   "id": "1e8fddb8-a8a9-4021-9ecf-0da881e337fc",
   "metadata": {},
   "outputs": [
    {
     "name": "stdout",
     "output_type": "stream",
     "text": [
      "Hello \n",
      "Excited for this program\n"
     ]
    }
   ],
   "source": [
    "print(\"Hello \")\n",
    "print(\"Excited for this program\")"
   ]
  },
  {
   "cell_type": "code",
   "execution_count": null,
   "id": "d842dd0b-b63f-4964-b09e-52d7379d779f",
   "metadata": {},
   "outputs": [],
   "source": []
  }
 ],
 "metadata": {
  "kernelspec": {
   "display_name": "Python 3 (ipykernel)",
   "language": "python",
   "name": "python3"
  },
  "language_info": {
   "codemirror_mode": {
    "name": "ipython",
    "version": 3
   },
   "file_extension": ".py",
   "mimetype": "text/x-python",
   "name": "python",
   "nbconvert_exporter": "python",
   "pygments_lexer": "ipython3",
   "version": "3.12.0"
  }
 },
 "nbformat": 4,
 "nbformat_minor": 5
}
